{
 "cells": [
  {
   "cell_type": "code",
   "execution_count": 1,
   "id": "d5208601",
   "metadata": {},
   "outputs": [
    {
     "name": "stdout",
     "output_type": "stream",
     "text": [
      "Requirement already satisfied: h5py in c:\\users\\curso\\appdata\\local\\programs\\python\\python311\\lib\\site-packages (3.9.0)\n",
      "Requirement already satisfied: numpy>=1.17.3 in c:\\users\\curso\\appdata\\local\\programs\\python\\python311\\lib\\site-packages (from h5py) (1.25.0)\n",
      "Note: you may need to restart the kernel to use updated packages.\n"
     ]
    },
    {
     "name": "stderr",
     "output_type": "stream",
     "text": [
      "\n",
      "[notice] A new release of pip is available: 23.2 -> 23.3.2\n",
      "[notice] To update, run: python.exe -m pip install --upgrade pip\n"
     ]
    }
   ],
   "source": [
    "pip install h5py"
   ]
  },
  {
   "cell_type": "code",
   "execution_count": 2,
   "id": "851e12e8",
   "metadata": {},
   "outputs": [],
   "source": [
    "import os\n",
    "import zipfile\n",
    "import h5py\n",
    "import os\n",
    "import shutil"
   ]
  },
  {
   "cell_type": "code",
   "execution_count": 6,
   "id": "7d5390dd",
   "metadata": {},
   "outputs": [
    {
     "name": "stdout",
     "output_type": "stream",
     "text": [
      "Proceso completado.\n"
     ]
    }
   ],
   "source": [
    "# Ruta de la carpeta original que contiene los archivos .h5\n",
    "carpeta_original = 'Matrices'\n",
    "\n",
    "# Ruta de la carpeta que se creará para almacenar las matrices comprimidas\n",
    "carpeta_destino = 'Matrices_comprimidas'\n",
    "\n",
    "# Crear la carpeta de destino si no existe\n",
    "if not os.path.exists(carpeta_destino):\n",
    "    os.makedirs(carpeta_destino)\n",
    "\n",
    "# Lista de archivos .h5 en la carpeta original\n",
    "archivos_h5 = [archivo for archivo in os.listdir(carpeta_original) if archivo.endswith('.h5')]\n",
    "\n",
    "# Iterar sobre cada archivo .h5\n",
    "for archivo_h5 in archivos_h5:\n",
    "    # Crear el nombre de la carpeta .zip\n",
    "    nombre_zip = os.path.splitext(archivo_h5)[0] + '.zip'\n",
    "    \n",
    "    # Ruta completa del archivo .h5\n",
    "    ruta_h5 = os.path.join(carpeta_original, archivo_h5)\n",
    "    \n",
    "    # Ruta completa de la carpeta .zip\n",
    "    ruta_zip = os.path.join(carpeta_destino, nombre_zip)\n",
    "    \n",
    "    # Crear la carpeta .zip y agregar el archivo .h5 comprimido\n",
    "    with zipfile.ZipFile(ruta_zip, 'w', compression=zipfile.ZIP_DEFLATED) as zipf:\n",
    "        zipf.write(ruta_h5, os.path.basename(ruta_h5))\n",
    "\n",
    "print(\"Proceso completado.\")"
   ]
  },
  {
   "cell_type": "code",
   "execution_count": null,
   "id": "321be26a",
   "metadata": {},
   "outputs": [],
   "source": []
  }
 ],
 "metadata": {
  "kernelspec": {
   "display_name": "Python 3 (ipykernel)",
   "language": "python",
   "name": "python3"
  },
  "language_info": {
   "codemirror_mode": {
    "name": "ipython",
    "version": 3
   },
   "file_extension": ".py",
   "mimetype": "text/x-python",
   "name": "python",
   "nbconvert_exporter": "python",
   "pygments_lexer": "ipython3",
   "version": "3.11.4"
  }
 },
 "nbformat": 4,
 "nbformat_minor": 5
}
