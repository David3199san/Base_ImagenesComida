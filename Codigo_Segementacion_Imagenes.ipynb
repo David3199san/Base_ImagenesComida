{
 "cells": [
  {
   "cell_type": "code",
   "execution_count": 1,
   "id": "a85de64e",
   "metadata": {},
   "outputs": [
    {
     "name": "stdout",
     "output_type": "stream",
     "text": [
      "Collecting git+https://github.com/facebookresearch/segment-anything.git\n",
      "  Cloning https://github.com/facebookresearch/segment-anything.git to c:\\users\\curso\\appdata\\local\\temp\\pip-req-build-goq158ti\n",
      "  Resolved https://github.com/facebookresearch/segment-anything.git to commit 6fdee8f2727f4506cfbbe553e23b895e27956588\n",
      "  Installing build dependencies: started\n",
      "  Installing build dependencies: finished with status 'done'\n",
      "  Getting requirements to build wheel: started\n",
      "  Getting requirements to build wheel: finished with status 'done'\n",
      "  Preparing metadata (pyproject.toml): started\n",
      "  Preparing metadata (pyproject.toml): finished with status 'done'\n"
     ]
    },
    {
     "name": "stderr",
     "output_type": "stream",
     "text": [
      "  Running command git clone --filter=blob:none --quiet https://github.com/facebookresearch/segment-anything.git 'C:\\Users\\curso\\AppData\\Local\\Temp\\pip-req-build-goq158ti'\n",
      "\n",
      "[notice] A new release of pip is available: 23.2 -> 23.3.2\n",
      "[notice] To update, run: python.exe -m pip install --upgrade pip\n"
     ]
    }
   ],
   "source": [
    "!pip install git+https://github.com/facebookresearch/segment-anything.git"
   ]
  },
  {
   "cell_type": "code",
   "execution_count": 2,
   "id": "a1ccce78",
   "metadata": {},
   "outputs": [
    {
     "name": "stdout",
     "output_type": "stream",
     "text": [
      "Requirement already satisfied: opencv-python in c:\\users\\curso\\appdata\\local\\programs\\python\\python311\\lib\\site-packages (4.8.0.74)Note: you may need to restart the kernel to use updated packages.\n",
      "\n",
      "Requirement already satisfied: pycocotools in c:\\users\\curso\\appdata\\local\\programs\\python\\python311\\lib\\site-packages (2.0.7)\n",
      "Requirement already satisfied: matplotlib in c:\\users\\curso\\appdata\\local\\programs\\python\\python311\\lib\\site-packages (3.7.2)\n",
      "Requirement already satisfied: onnxruntime in c:\\users\\curso\\appdata\\local\\programs\\python\\python311\\lib\\site-packages (1.16.3)\n",
      "Requirement already satisfied: onnx in c:\\users\\curso\\appdata\\local\\programs\\python\\python311\\lib\\site-packages (1.15.0)\n",
      "Requirement already satisfied: numpy>=1.21.2 in c:\\users\\curso\\appdata\\local\\programs\\python\\python311\\lib\\site-packages (from opencv-python) (1.25.0)\n",
      "Requirement already satisfied: contourpy>=1.0.1 in c:\\users\\curso\\appdata\\local\\programs\\python\\python311\\lib\\site-packages (from matplotlib) (1.1.0)\n",
      "Requirement already satisfied: cycler>=0.10 in c:\\users\\curso\\appdata\\local\\programs\\python\\python311\\lib\\site-packages (from matplotlib) (0.11.0)\n",
      "Requirement already satisfied: fonttools>=4.22.0 in c:\\users\\curso\\appdata\\local\\programs\\python\\python311\\lib\\site-packages (from matplotlib) (4.40.0)\n",
      "Requirement already satisfied: kiwisolver>=1.0.1 in c:\\users\\curso\\appdata\\local\\programs\\python\\python311\\lib\\site-packages (from matplotlib) (1.4.4)\n",
      "Requirement already satisfied: packaging>=20.0 in c:\\users\\curso\\appdata\\local\\programs\\python\\python311\\lib\\site-packages (from matplotlib) (23.1)\n",
      "Requirement already satisfied: pillow>=6.2.0 in c:\\users\\curso\\appdata\\local\\programs\\python\\python311\\lib\\site-packages (from matplotlib) (10.0.0)\n",
      "Requirement already satisfied: pyparsing<3.1,>=2.3.1 in c:\\users\\curso\\appdata\\local\\programs\\python\\python311\\lib\\site-packages (from matplotlib) (3.0.9)\n",
      "Requirement already satisfied: python-dateutil>=2.7 in c:\\users\\curso\\appdata\\local\\programs\\python\\python311\\lib\\site-packages (from matplotlib) (2.8.2)\n",
      "Requirement already satisfied: coloredlogs in c:\\users\\curso\\appdata\\local\\programs\\python\\python311\\lib\\site-packages (from onnxruntime) (15.0.1)\n",
      "Requirement already satisfied: flatbuffers in c:\\users\\curso\\appdata\\local\\programs\\python\\python311\\lib\\site-packages (from onnxruntime) (23.5.26)\n",
      "Requirement already satisfied: protobuf in c:\\users\\curso\\appdata\\local\\programs\\python\\python311\\lib\\site-packages (from onnxruntime) (4.25.1)\n",
      "Requirement already satisfied: sympy in c:\\users\\curso\\appdata\\local\\programs\\python\\python311\\lib\\site-packages (from onnxruntime) (1.12)\n",
      "Requirement already satisfied: six>=1.5 in c:\\users\\curso\\appdata\\local\\programs\\python\\python311\\lib\\site-packages (from python-dateutil>=2.7->matplotlib) (1.16.0)\n",
      "Requirement already satisfied: humanfriendly>=9.1 in c:\\users\\curso\\appdata\\local\\programs\\python\\python311\\lib\\site-packages (from coloredlogs->onnxruntime) (10.0)\n",
      "Requirement already satisfied: mpmath>=0.19 in c:\\users\\curso\\appdata\\local\\programs\\python\\python311\\lib\\site-packages (from sympy->onnxruntime) (1.3.0)\n",
      "Requirement already satisfied: pyreadline3 in c:\\users\\curso\\appdata\\local\\programs\\python\\python311\\lib\\site-packages (from humanfriendly>=9.1->coloredlogs->onnxruntime) (3.4.1)\n"
     ]
    },
    {
     "name": "stderr",
     "output_type": "stream",
     "text": [
      "\n",
      "[notice] A new release of pip is available: 23.2 -> 23.3.2\n",
      "[notice] To update, run: python.exe -m pip install --upgrade pip\n"
     ]
    }
   ],
   "source": [
    "pip install opencv-python pycocotools matplotlib onnxruntime onnx"
   ]
  },
  {
   "cell_type": "code",
   "execution_count": 3,
   "id": "f6ca2deb",
   "metadata": {},
   "outputs": [
    {
     "name": "stdout",
     "output_type": "stream",
     "text": [
      "Requirement already satisfied: torch in c:\\users\\curso\\appdata\\local\\programs\\python\\python311\\lib\\site-packages (2.0.1)\n",
      "Requirement already satisfied: filelock in c:\\users\\curso\\appdata\\local\\programs\\python\\python311\\lib\\site-packages (from torch) (3.12.2)\n",
      "Requirement already satisfied: typing-extensions in c:\\users\\curso\\appdata\\local\\programs\\python\\python311\\lib\\site-packages (from torch) (4.7.1)\n",
      "Requirement already satisfied: sympy in c:\\users\\curso\\appdata\\local\\programs\\python\\python311\\lib\\site-packages (from torch) (1.12)\n",
      "Requirement already satisfied: networkx in c:\\users\\curso\\appdata\\local\\programs\\python\\python311\\lib\\site-packages (from torch) (3.1)\n",
      "Requirement already satisfied: jinja2 in c:\\users\\curso\\appdata\\local\\programs\\python\\python311\\lib\\site-packages (from torch) (3.1.2)\n",
      "Requirement already satisfied: MarkupSafe>=2.0 in c:\\users\\curso\\appdata\\local\\programs\\python\\python311\\lib\\site-packages (from jinja2->torch) (2.1.3)\n",
      "Requirement already satisfied: mpmath>=0.19 in c:\\users\\curso\\appdata\\local\\programs\\python\\python311\\lib\\site-packages (from sympy->torch) (1.3.0)\n"
     ]
    },
    {
     "name": "stderr",
     "output_type": "stream",
     "text": [
      "\n",
      "[notice] A new release of pip is available: 23.2 -> 23.3.2\n",
      "[notice] To update, run: python.exe -m pip install --upgrade pip\n"
     ]
    }
   ],
   "source": [
    "!pip install torch"
   ]
  },
  {
   "cell_type": "code",
   "execution_count": 4,
   "id": "6e24f837",
   "metadata": {},
   "outputs": [
    {
     "name": "stdout",
     "output_type": "stream",
     "text": [
      "Requirement already satisfied: torchvision in c:\\users\\curso\\appdata\\local\\programs\\python\\python311\\lib\\site-packages (0.15.2)"
     ]
    },
    {
     "name": "stderr",
     "output_type": "stream",
     "text": [
      "\n",
      "[notice] A new release of pip is available: 23.2 -> 23.3.2\n",
      "[notice] To update, run: python.exe -m pip install --upgrade pip\n"
     ]
    },
    {
     "name": "stdout",
     "output_type": "stream",
     "text": [
      "\n",
      "Requirement already satisfied: numpy in c:\\users\\curso\\appdata\\local\\programs\\python\\python311\\lib\\site-packages (from torchvision) (1.25.0)\n",
      "Requirement already satisfied: requests in c:\\users\\curso\\appdata\\local\\programs\\python\\python311\\lib\\site-packages (from torchvision) (2.31.0)\n",
      "Requirement already satisfied: torch==2.0.1 in c:\\users\\curso\\appdata\\local\\programs\\python\\python311\\lib\\site-packages (from torchvision) (2.0.1)\n",
      "Requirement already satisfied: pillow!=8.3.*,>=5.3.0 in c:\\users\\curso\\appdata\\local\\programs\\python\\python311\\lib\\site-packages (from torchvision) (10.0.0)\n",
      "Requirement already satisfied: filelock in c:\\users\\curso\\appdata\\local\\programs\\python\\python311\\lib\\site-packages (from torch==2.0.1->torchvision) (3.12.2)\n",
      "Requirement already satisfied: typing-extensions in c:\\users\\curso\\appdata\\local\\programs\\python\\python311\\lib\\site-packages (from torch==2.0.1->torchvision) (4.7.1)\n",
      "Requirement already satisfied: sympy in c:\\users\\curso\\appdata\\local\\programs\\python\\python311\\lib\\site-packages (from torch==2.0.1->torchvision) (1.12)\n",
      "Requirement already satisfied: networkx in c:\\users\\curso\\appdata\\local\\programs\\python\\python311\\lib\\site-packages (from torch==2.0.1->torchvision) (3.1)\n",
      "Requirement already satisfied: jinja2 in c:\\users\\curso\\appdata\\local\\programs\\python\\python311\\lib\\site-packages (from torch==2.0.1->torchvision) (3.1.2)\n",
      "Requirement already satisfied: charset-normalizer<4,>=2 in c:\\users\\curso\\appdata\\local\\programs\\python\\python311\\lib\\site-packages (from requests->torchvision) (3.2.0)\n",
      "Requirement already satisfied: idna<4,>=2.5 in c:\\users\\curso\\appdata\\local\\programs\\python\\python311\\lib\\site-packages (from requests->torchvision) (3.4)\n",
      "Requirement already satisfied: urllib3<3,>=1.21.1 in c:\\users\\curso\\appdata\\local\\programs\\python\\python311\\lib\\site-packages (from requests->torchvision) (2.0.3)\n",
      "Requirement already satisfied: certifi>=2017.4.17 in c:\\users\\curso\\appdata\\local\\programs\\python\\python311\\lib\\site-packages (from requests->torchvision) (2023.5.7)\n",
      "Requirement already satisfied: MarkupSafe>=2.0 in c:\\users\\curso\\appdata\\local\\programs\\python\\python311\\lib\\site-packages (from jinja2->torch==2.0.1->torchvision) (2.1.3)\n",
      "Requirement already satisfied: mpmath>=0.19 in c:\\users\\curso\\appdata\\local\\programs\\python\\python311\\lib\\site-packages (from sympy->torch==2.0.1->torchvision) (1.3.0)\n"
     ]
    }
   ],
   "source": [
    "!pip install torchvision"
   ]
  },
  {
   "cell_type": "code",
   "execution_count": 5,
   "id": "cc23bc97",
   "metadata": {},
   "outputs": [
    {
     "name": "stdout",
     "output_type": "stream",
     "text": [
      "Requirement already satisfied: matplotlib in c:\\users\\curso\\appdata\\local\\programs\\python\\python311\\lib\\site-packages (3.7.2)\n",
      "Requirement already satisfied: contourpy>=1.0.1 in c:\\users\\curso\\appdata\\local\\programs\\python\\python311\\lib\\site-packages (from matplotlib) (1.1.0)\n",
      "Requirement already satisfied: cycler>=0.10 in c:\\users\\curso\\appdata\\local\\programs\\python\\python311\\lib\\site-packages (from matplotlib) (0.11.0)\n",
      "Requirement already satisfied: fonttools>=4.22.0 in c:\\users\\curso\\appdata\\local\\programs\\python\\python311\\lib\\site-packages (from matplotlib) (4.40.0)\n",
      "Requirement already satisfied: kiwisolver>=1.0.1 in c:\\users\\curso\\appdata\\local\\programs\\python\\python311\\lib\\site-packages (from matplotlib) (1.4.4)\n",
      "Requirement already satisfied: numpy>=1.20 in c:\\users\\curso\\appdata\\local\\programs\\python\\python311\\lib\\site-packages (from matplotlib) (1.25.0)\n",
      "Requirement already satisfied: packaging>=20.0 in c:\\users\\curso\\appdata\\local\\programs\\python\\python311\\lib\\site-packages (from matplotlib) (23.1)\n",
      "Requirement already satisfied: pillow>=6.2.0 in c:\\users\\curso\\appdata\\local\\programs\\python\\python311\\lib\\site-packages (from matplotlib) (10.0.0)\n",
      "Requirement already satisfied: pyparsing<3.1,>=2.3.1 in c:\\users\\curso\\appdata\\local\\programs\\python\\python311\\lib\\site-packages (from matplotlib) (3.0.9)\n",
      "Requirement already satisfied: python-dateutil>=2.7 in c:\\users\\curso\\appdata\\local\\programs\\python\\python311\\lib\\site-packages (from matplotlib) (2.8.2)\n",
      "Requirement already satisfied: six>=1.5 in c:\\users\\curso\\appdata\\local\\programs\\python\\python311\\lib\\site-packages (from python-dateutil>=2.7->matplotlib) (1.16.0)\n"
     ]
    },
    {
     "name": "stderr",
     "output_type": "stream",
     "text": [
      "\n",
      "[notice] A new release of pip is available: 23.2 -> 23.3.2\n",
      "[notice] To update, run: python.exe -m pip install --upgrade pip\n"
     ]
    }
   ],
   "source": [
    "!pip install matplotlib"
   ]
  },
  {
   "cell_type": "code",
   "execution_count": 6,
   "id": "e851ebab",
   "metadata": {},
   "outputs": [
    {
     "name": "stdout",
     "output_type": "stream",
     "text": [
      "Requirement already satisfied: opencv-python in c:\\users\\curso\\appdata\\local\\programs\\python\\python311\\lib\\site-packages (4.8.0.74)\n",
      "Requirement already satisfied: numpy>=1.21.2 in c:\\users\\curso\\appdata\\local\\programs\\python\\python311\\lib\\site-packages (from opencv-python) (1.25.0)\n"
     ]
    },
    {
     "name": "stderr",
     "output_type": "stream",
     "text": [
      "\n",
      "[notice] A new release of pip is available: 23.2 -> 23.3.2\n",
      "[notice] To update, run: python.exe -m pip install --upgrade pip\n"
     ]
    }
   ],
   "source": [
    "!pip install opencv-python"
   ]
  },
  {
   "cell_type": "code",
   "execution_count": 7,
   "id": "c1c69085",
   "metadata": {},
   "outputs": [
    {
     "name": "stdout",
     "output_type": "stream",
     "text": [
      "Requirement already satisfied: h5py in c:\\users\\curso\\appdata\\local\\programs\\python\\python311\\lib\\site-packages (3.9.0)\n",
      "Requirement already satisfied: numpy>=1.17.3 in c:\\users\\curso\\appdata\\local\\programs\\python\\python311\\lib\\site-packages (from h5py) (1.25.0)\n"
     ]
    },
    {
     "name": "stderr",
     "output_type": "stream",
     "text": [
      "\n",
      "[notice] A new release of pip is available: 23.2 -> 23.3.2\n",
      "[notice] To update, run: python.exe -m pip install --upgrade pip\n"
     ]
    }
   ],
   "source": [
    "!pip install h5py"
   ]
  },
  {
   "cell_type": "code",
   "execution_count": 18,
   "id": "5706503b",
   "metadata": {},
   "outputs": [],
   "source": [
    "import numpy as np\n",
    "import torch\n",
    "import matplotlib.pyplot as plt\n",
    "import cv2\n",
    "import torchvision\n",
    "import os\n",
    "import h5py"
   ]
  },
  {
   "cell_type": "code",
   "execution_count": 19,
   "id": "5eaa45af",
   "metadata": {},
   "outputs": [],
   "source": [
    "def show_anns(anns):\n",
    "    if len(anns) == 0:\n",
    "        return\n",
    "    sorted_anns = sorted(anns, key=(lambda x: x['area']), reverse=True)\n",
    "    ax = plt.gca()\n",
    "    ax.set_autoscale_on(False)\n",
    "\n",
    "    img = np.ones((sorted_anns[0]['segmentation'].shape[0], sorted_anns[0]['segmentation'].shape[1], 4))\n",
    "    img[:,:,3] = 0\n",
    "    for ann in sorted_anns:\n",
    "        m = ann['segmentation']\n",
    "        color_mask = np.concatenate([np.random.random(3), [0.35]])\n",
    "        img[m] = color_mask\n",
    "    ax.imshow(img)"
   ]
  },
  {
   "cell_type": "code",
   "execution_count": 20,
   "id": "423df609",
   "metadata": {},
   "outputs": [],
   "source": [
    "#Modelo\n",
    "import sys\n",
    "sys.path.append(\"..\")\n",
    "from segment_anything import sam_model_registry, SamAutomaticMaskGenerator, SamPredictor\n",
    "\n",
    "sam_checkpoint = \"sam_vit_h_4b8939.pth\"\n",
    "model_type = \"vit_h\"\n",
    "\n",
    "device = \"cpu\"\n",
    "\n",
    "sam = sam_model_registry[model_type](checkpoint=sam_checkpoint)\n",
    "sam.to(device=device)\n",
    "\n",
    "mask_generator = SamAutomaticMaskGenerator(sam)"
   ]
  },
  {
   "cell_type": "code",
   "execution_count": 21,
   "id": "63c6d523",
   "metadata": {},
   "outputs": [],
   "source": [
    "mask_generator_2 = SamAutomaticMaskGenerator(\n",
    "    model=sam,\n",
    "    points_per_side=32,\n",
    "    pred_iou_thresh=0.86,\n",
    "    stability_score_thresh=0.92,\n",
    "    crop_n_layers=1,\n",
    "    crop_n_points_downscale_factor=2,\n",
    "    min_mask_region_area=100,  # Requires open-cv to run post-processing\n",
    ")"
   ]
  },
  {
   "cell_type": "code",
   "execution_count": 22,
   "id": "60955673",
   "metadata": {},
   "outputs": [],
   "source": [
    " # Function to convert list of boolean arrays to uint8 arrays\n",
    "def bool_array_to_uint8(array):\n",
    "    return array.astype(np.uint8)"
   ]
  },
  {
   "cell_type": "code",
   "execution_count": 23,
   "id": "ebf10635",
   "metadata": {},
   "outputs": [],
   "source": [
    "# Ruta de la carpeta donde se encuentran los archivos\n",
    "carpeta = \"bandej\" \n",
    "\n",
    "# Crear la carpeta \"segmentación\" si no existe\n",
    "general_folder_name = \"bandeja\"\n",
    "if not os.path.exists(general_folder_name):\n",
    "    os.makedirs(general_folder_name)\n",
    "\n",
    "# Obtener la lista de archivos en la carpeta\n",
    "archivos = os.listdir(carpeta)\n",
    "\n"
   ]
  },
  {
   "cell_type": "code",
   "execution_count": null,
   "id": "28bcaad3",
   "metadata": {},
   "outputs": [],
   "source": []
  },
  {
   "cell_type": "code",
   "execution_count": 24,
   "id": "c100c97e",
   "metadata": {},
   "outputs": [
    {
     "name": "stdout",
     "output_type": "stream",
     "text": [
      "Nombres de archivos cambiados correctamente.\n"
     ]
    }
   ],
   "source": [
    "# Ejemplo de cómo cambiar los nombres de los archivos\n",
    "for i, nombre_archivo in enumerate(archivos):\n",
    "    # Verifica si el elemento es un archivo (no un directorio)\n",
    "    if os.path.isfile(os.path.join(carpeta, nombre_archivo)):\n",
    "        # Cambiar el nombre del archivo\n",
    "        nuevo_nombre = f\"{i + 1}.jpg\"\n",
    "        # Ruta completa del archivo original\n",
    "        ruta_original = os.path.join(carpeta, nombre_archivo)\n",
    "        # Ruta completa del archivo con el nuevo nombre\n",
    "        ruta_nueva = os.path.join(general_folder_name, nuevo_nombre)\n",
    "        # Renombrar el archivo\n",
    "        os.rename(ruta_original, ruta_nueva)\n",
    "\n",
    "print(\"Nombres de archivos cambiados correctamente.\")"
   ]
  },
  {
   "cell_type": "code",
   "execution_count": 25,
   "id": "edba89b4",
   "metadata": {},
   "outputs": [],
   "source": [
    "# Crear la carpeta \"Segementos\" si no existe\n",
    "general_folder_name = \"Segmentos\"\n",
    "if not os.path.exists(general_folder_name):\n",
    "    os.makedirs(general_folder_name)\n",
    "    \n",
    "# Crear la carpeta \"Matrices\" si no existe\n",
    "name = \"Matrices\"\n",
    "if not os.path.exists(name):\n",
    "    os.makedirs(name)\n",
    "             \n",
    "# Obtener la lista de nombres de archivos en la carpeta \"bandeja\"\n",
    "folder_path = 'bandeja'\n",
    "file_names = os.listdir(folder_path)\n",
    "\n",
    "# Leer cada imagen, convertirla a formato RGB y agregarla a la lista \"images\"\n",
    "for file_name in file_names:\n",
    "    file_path = os.path.join(folder_path, file_name)\n",
    "    image = cv2.imread(file_path)\n",
    "    image_rgb = cv2.cvtColor(image, cv2.COLOR_BGR2RGB)\n",
    "    \n",
    "    # Crear la carpeta para la imagen actual si no existe\n",
    "    nombre_carpeta_imagen = os.path.join(general_folder_name, file_name[:-4])\n",
    "    if not os.path.exists(nombre_carpeta_imagen):\n",
    "            os.makedirs(nombre_carpeta_imagen)\n",
    "            \n",
    "    # Guardar la imagen original en la carpeta\n",
    "    ruta_absoluta = os.path.abspath(os.path.join(nombre_carpeta_imagen, file_name))\n",
    "    cv2.imwrite(ruta_absoluta, cv2.cvtColor(image_rgb, cv2.COLOR_RGB2BGR))\n",
    "    \n",
    "    mask = mask_generator_2.generate(image_rgb)\n",
    "    \n",
    "    # Nombre del archivo .h5\n",
    "    nombre_archivo = file_name[:-4] +'.h5'\n",
    "\n",
    "    # Crear el archivo HDF5 en la carpeta de destino\n",
    "    ruta_archivo_h5 = os.path.join(name, nombre_archivo)\n",
    "\n",
    "    with h5py.File(ruta_archivo_h5, 'w') as hf:\n",
    "        for idx, obj in enumerate(mask):\n",
    "        # Obtener la matriz de segmentación de la máscara\n",
    "            segmentation = obj['segmentation']\n",
    "\n",
    "            # Crear una imagen en color del mismo tamaño que la matriz de segmentación\n",
    "            imagen_segmentada = np.zeros(segmentation.shape + (3,), dtype=np.uint8)\n",
    "\n",
    "            # Obtener los colores correspondientes de la imagen original\n",
    "            colores_originales = image_rgb[segmentation]\n",
    "\n",
    "            # Establecer los píxeles correspondientes a la segmentación con los colores originales\n",
    "            imagen_segmentada[segmentation] = colores_originales\n",
    "\n",
    "            # Guardar la imagen segmentada en la carpeta correspondiente\n",
    "            nombre_imagen_segmentada = f\"segmentacion_{idx + 1}.jpg\"\n",
    "            cv2.imwrite(os.path.join(nombre_carpeta_imagen, nombre_imagen_segmentada), cv2.cvtColor(imagen_segmentada, cv2.COLOR_RGB2BGR))\n",
    "\n",
    "            \n",
    "            #ARCHIVO\n",
    "            group = hf.create_group(nombre_imagen_segmentada[:-4])\n",
    "            group.create_dataset('segmentation', data=bool_array_to_uint8(obj['segmentation']))\n",
    "            group.create_dataset('area', data=obj['area'])\n",
    "            group.create_dataset('bbox', data=obj['bbox'])\n",
    "            group.create_dataset('predicted_iou', data=obj['predicted_iou'])\n",
    "            group.create_dataset('point_coords', data=obj['point_coords'])\n",
    "            group.create_dataset('stability_score', data=obj['stability_score'])\n",
    "            group.create_dataset('crop_box', data=obj['crop_box'])\n",
    "\n",
    "    \n",
    "            \n",
    "            \n",
    "    \n",
    "    \n",
    "    \n",
    "    \n",
    "    "
   ]
  }
 ],
 "metadata": {
  "kernelspec": {
   "display_name": "Python 3 (ipykernel)",
   "language": "python",
   "name": "python3"
  },
  "language_info": {
   "codemirror_mode": {
    "name": "ipython",
    "version": 3
   },
   "file_extension": ".py",
   "mimetype": "text/x-python",
   "name": "python",
   "nbconvert_exporter": "python",
   "pygments_lexer": "ipython3",
   "version": "3.11.4"
  }
 },
 "nbformat": 4,
 "nbformat_minor": 5
}
